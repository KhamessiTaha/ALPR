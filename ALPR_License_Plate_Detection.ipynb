{
  "nbformat": 4,
  "nbformat_minor": 0,
  "metadata": {
    "colab": {
      "provenance": [],
      "authorship_tag": "ABX9TyPhs/a3N/Fr/ena7FTsSXJn",
      "include_colab_link": true
    },
    "kernelspec": {
      "name": "python3",
      "display_name": "Python 3"
    },
    "language_info": {
      "name": "python"
    }
  },
  "cells": [
    {
      "cell_type": "markdown",
      "metadata": {
        "id": "view-in-github",
        "colab_type": "text"
      },
      "source": [
        "<a href=\"https://colab.research.google.com/github/KhamessiTaha/ALPR/blob/main/ALPR_License_Plate_Detection.ipynb\" target=\"_parent\"><img src=\"https://colab.research.google.com/assets/colab-badge.svg\" alt=\"Open In Colab\"/></a>"
      ]
    },
    {
      "cell_type": "code",
      "source": [
        "from google.colab import drive\n",
        "drive.mount('/content/drive')"
      ],
      "metadata": {
        "id": "5imSs92HRw20",
        "colab": {
          "base_uri": "https://localhost:8080/"
        },
        "outputId": "3705ab31-4d13-4dcd-b2f1-d1c0e9db2a51"
      },
      "execution_count": 1,
      "outputs": [
        {
          "output_type": "stream",
          "name": "stdout",
          "text": [
            "Mounted at /content/drive\n"
          ]
        }
      ]
    },
    {
      "cell_type": "code",
      "execution_count": 2,
      "metadata": {
        "id": "pJ4LqEyVvMw6",
        "colab": {
          "base_uri": "https://localhost:8080/"
        },
        "outputId": "ac64ba0f-c7f2-4ef7-cddf-d1348e440c4b"
      },
      "outputs": [
        {
          "output_type": "stream",
          "name": "stdout",
          "text": [
            "Requirement already satisfied: opencv-python-headless in /usr/local/lib/python3.10/dist-packages (4.10.0.84)\n",
            "Collecting pytesseract\n",
            "  Downloading pytesseract-0.3.10-py3-none-any.whl (14 kB)\n",
            "Requirement already satisfied: numpy>=1.21.2 in /usr/local/lib/python3.10/dist-packages (from opencv-python-headless) (1.25.2)\n",
            "Requirement already satisfied: packaging>=21.3 in /usr/local/lib/python3.10/dist-packages (from pytesseract) (24.1)\n",
            "Requirement already satisfied: Pillow>=8.0.0 in /usr/local/lib/python3.10/dist-packages (from pytesseract) (9.4.0)\n",
            "Installing collected packages: pytesseract\n",
            "Successfully installed pytesseract-0.3.10\n",
            "Reading package lists... Done\n",
            "Building dependency tree... Done\n",
            "Reading state information... Done\n",
            "The following additional packages will be installed:\n",
            "  tesseract-ocr-eng tesseract-ocr-osd\n",
            "The following NEW packages will be installed:\n",
            "  tesseract-ocr tesseract-ocr-eng tesseract-ocr-osd\n",
            "0 upgraded, 3 newly installed, 0 to remove and 45 not upgraded.\n",
            "Need to get 4,816 kB of archives.\n",
            "After this operation, 15.6 MB of additional disk space will be used.\n",
            "Get:1 http://archive.ubuntu.com/ubuntu jammy/universe amd64 tesseract-ocr-eng all 1:4.00~git30-7274cfa-1.1 [1,591 kB]\n",
            "Get:2 http://archive.ubuntu.com/ubuntu jammy/universe amd64 tesseract-ocr-osd all 1:4.00~git30-7274cfa-1.1 [2,990 kB]\n",
            "Get:3 http://archive.ubuntu.com/ubuntu jammy/universe amd64 tesseract-ocr amd64 4.1.1-2.1build1 [236 kB]\n",
            "Fetched 4,816 kB in 0s (11.1 MB/s)\n",
            "Selecting previously unselected package tesseract-ocr-eng.\n",
            "(Reading database ... 123576 files and directories currently installed.)\n",
            "Preparing to unpack .../tesseract-ocr-eng_1%3a4.00~git30-7274cfa-1.1_all.deb ...\n",
            "Unpacking tesseract-ocr-eng (1:4.00~git30-7274cfa-1.1) ...\n",
            "Selecting previously unselected package tesseract-ocr-osd.\n",
            "Preparing to unpack .../tesseract-ocr-osd_1%3a4.00~git30-7274cfa-1.1_all.deb ...\n",
            "Unpacking tesseract-ocr-osd (1:4.00~git30-7274cfa-1.1) ...\n",
            "Selecting previously unselected package tesseract-ocr.\n",
            "Preparing to unpack .../tesseract-ocr_4.1.1-2.1build1_amd64.deb ...\n",
            "Unpacking tesseract-ocr (4.1.1-2.1build1) ...\n",
            "Setting up tesseract-ocr-eng (1:4.00~git30-7274cfa-1.1) ...\n",
            "Setting up tesseract-ocr-osd (1:4.00~git30-7274cfa-1.1) ...\n",
            "Setting up tesseract-ocr (4.1.1-2.1build1) ...\n",
            "Processing triggers for man-db (2.10.2-1) ...\n",
            "Reading package lists... Done\n",
            "Building dependency tree... Done\n",
            "Reading state information... Done\n",
            "The following NEW packages will be installed:\n",
            "  libgl1-mesa-glx\n",
            "0 upgraded, 1 newly installed, 0 to remove and 45 not upgraded.\n",
            "Need to get 5,584 B of archives.\n",
            "After this operation, 74.8 kB of additional disk space will be used.\n",
            "Get:1 http://archive.ubuntu.com/ubuntu jammy-updates/universe amd64 libgl1-mesa-glx amd64 23.0.4-0ubuntu1~22.04.1 [5,584 B]\n",
            "Fetched 5,584 B in 0s (63.7 kB/s)\n",
            "Selecting previously unselected package libgl1-mesa-glx:amd64.\n",
            "(Reading database ... 123623 files and directories currently installed.)\n",
            "Preparing to unpack .../libgl1-mesa-glx_23.0.4-0ubuntu1~22.04.1_amd64.deb ...\n",
            "Unpacking libgl1-mesa-glx:amd64 (23.0.4-0ubuntu1~22.04.1) ...\n",
            "Setting up libgl1-mesa-glx:amd64 (23.0.4-0ubuntu1~22.04.1) ...\n"
          ]
        }
      ],
      "source": [
        "!pip install opencv-python-headless pytesseract\n",
        "!apt-get install -y tesseract-ocr\n",
        "!apt-get install -y libgl1-mesa-glx"
      ]
    },
    {
      "cell_type": "code",
      "source": [
        "import cv2\n",
        "import numpy as np\n",
        "import pytesseract\n",
        "from google.colab.patches import cv2_imshow\n",
        "\n",
        "weights_path = \"/content/drive/My Drive/ALPR/yolov4-obj_best.weights\"\n",
        "cfg_path = \"/content/drive/My Drive/ALPR/yolov4-obj.cfg\"\n",
        "names_path = \"/content/drive/My Drive/ALPR/custom.names\"\n",
        "video_path = \"/content/drive/My Drive/ALPR/sample.mp4\"\n",
        "output_video_path = \"/content/drive/My Drive/ALPR/output_video.mp4\"\n",
        "\n",
        "\n",
        "net = cv2.dnn.readNet(weights_path, cfg_path)\n",
        "layer_names = net.getLayerNames()\n",
        "output_layers = [layer_names[i - 1] for i in net.getUnconnectedOutLayers()]\n",
        "\n",
        "\n",
        "with open(names_path, \"r\") as f:\n",
        "    classes = [line.strip() for line in f.readlines()]\n",
        "\n",
        "\n",
        "pytesseract.pytesseract.tesseract_cmd = r'/usr/bin/tesseract'\n"
      ],
      "metadata": {
        "id": "9AFfKD0kRYRc"
      },
      "execution_count": 6,
      "outputs": []
    },
    {
      "cell_type": "code",
      "source": [
        "\n",
        "cap = cv2.VideoCapture(video_path)\n",
        "\n",
        "\n",
        "if not cap.isOpened():\n",
        "    print(\"Error: Could not open video.\")\n",
        "else:\n",
        "\n",
        "    frame_width = int(cap.get(cv2.CAP_PROP_FRAME_WIDTH))\n",
        "    frame_height = int(cap.get(cv2.CAP_PROP_FRAME_HEIGHT))\n",
        "    fps = cap.get(cv2.CAP_PROP_FPS)\n",
        "\n",
        "    print(f\"Frame Width: {frame_width}, Frame Height: {frame_height}, FPS: {fps}\")\n",
        "\n",
        "\n",
        "    fourcc = cv2.VideoWriter_fourcc(*'mp4v')\n",
        "    out_writer = cv2.VideoWriter(output_video_path, fourcc, fps, (frame_width, frame_height))\n",
        "\n",
        "\n",
        "    if not out_writer.isOpened():\n",
        "        print(\"Error: Could not create video writer.\")\n",
        "    else:\n",
        "        print(\"Video writer successfully created.\")\n",
        "        print(f\"Video writer type: {type(out_writer)}\")\n",
        "\n",
        "        while cap.isOpened():\n",
        "            ret, frame = cap.read()\n",
        "            if not ret:\n",
        "                break\n",
        "\n",
        "            height, width, channels = frame.shape\n",
        "\n",
        "\n",
        "            blob = cv2.dnn.blobFromImage(frame, 0.00392, (416, 416), (0, 0, 0), True, crop=False)\n",
        "            net.setInput(blob)\n",
        "            outs = net.forward(output_layers)\n",
        "\n",
        "\n",
        "            class_ids = []\n",
        "            confidences = []\n",
        "            boxes = []\n",
        "\n",
        "            for out_detection in outs:\n",
        "                for detection in out_detection:\n",
        "                    scores = detection[5:]\n",
        "                    class_id = np.argmax(scores)\n",
        "                    confidence = scores[class_id]\n",
        "                    if confidence > 0.5:  # confidence threshold\n",
        "                        center_x = int(detection[0] * width)\n",
        "                        center_y = int(detection[1] * height)\n",
        "                        w = int(detection[2] * width)\n",
        "                        h = int(detection[3] * height)\n",
        "                        x = int(center_x - w / 2)\n",
        "                        y = int(center_y - h / 2)\n",
        "\n",
        "                        boxes.append([x, y, w, h])\n",
        "                        confidences.append(float(confidence))\n",
        "                        class_ids.append(class_id)\n",
        "\n",
        "\n",
        "            indexes = cv2.dnn.NMSBoxes(boxes, confidences, 0.5, 0.4)\n",
        "\n",
        "            for i in range(len(boxes)):\n",
        "                if i in indexes:\n",
        "                    x, y, w, h = boxes[i]\n",
        "                    label = str(classes[class_ids[i]])\n",
        "                    confidence = confidences[i]\n",
        "\n",
        "\n",
        "                    cv2.rectangle(frame, (x, y), (x + w, y + h), (0, 255, 0), 2)\n",
        "                    cv2.putText(frame, label, (x, y - 10), cv2.FONT_HERSHEY_SIMPLEX, 0.5, (0, 255, 0), 2)\n",
        "\n",
        "\n",
        "                    if x >= 0 and y >= 0 and x+w <= width and y+h <= height:\n",
        "\n",
        "                        license_plate = frame[y:y+h, x:x+w]\n",
        "                        gray_license_plate = cv2.cvtColor(license_plate, cv2.COLOR_BGR2GRAY)\n",
        "                        text = pytesseract.image_to_string(gray_license_plate, config='--psm 8')\n",
        "\n",
        "\n",
        "                        cv2.putText(frame, text.strip(), (x, y + h + 30), cv2.FONT_HERSHEY_SIMPLEX, 1, (0, 0, 255), 2)\n",
        "\n",
        "\n",
        "            out_writer.write(frame)\n",
        "\n",
        "        cap.release()\n",
        "        out_writer.release()\n",
        "        print(\"Video processing complete and saved to Google Drive.\")\n"
      ],
      "metadata": {
        "id": "znbezPtzUDZC",
        "colab": {
          "base_uri": "https://localhost:8080/"
        },
        "outputId": "6db6648a-c2f5-4a0a-842c-20b6a52ccb33"
      },
      "execution_count": 12,
      "outputs": [
        {
          "output_type": "stream",
          "name": "stdout",
          "text": [
            "Frame Width: 1920, Frame Height: 1080, FPS: 30.0\n",
            "Video writer successfully created.\n",
            "Video writer type: <class 'cv2.VideoWriter'>\n",
            "Video processing complete and saved to Google Drive.\n"
          ]
        }
      ]
    },
    {
      "cell_type": "code",
      "source": [],
      "metadata": {
        "id": "W6rTUb2oUFI7"
      },
      "execution_count": null,
      "outputs": []
    }
  ]
}
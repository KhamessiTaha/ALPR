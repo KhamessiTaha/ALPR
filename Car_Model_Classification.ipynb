{
  "cells": [
    {
      "cell_type": "markdown",
      "metadata": {
        "id": "view-in-github",
        "colab_type": "text"
      },
      "source": [
        "<a href=\"https://colab.research.google.com/github/KhamessiTaha/ALPR/blob/main/Car_Model_Classification.ipynb\" target=\"_parent\"><img src=\"https://colab.research.google.com/assets/colab-badge.svg\" alt=\"Open In Colab\"/></a>"
      ]
    },
    {
      "cell_type": "code",
      "execution_count": 2,
      "metadata": {
        "colab": {
          "base_uri": "https://localhost:8080/"
        },
        "id": "A1F63dQTG89w",
        "outputId": "a1cbaf40-035f-47bb-ed3b-c56cf3ff977c"
      },
      "outputs": [
        {
          "output_type": "stream",
          "name": "stdout",
          "text": [
            "Mounted at /content/drive\n"
          ]
        }
      ],
      "source": [
        "from google.colab import drive\n",
        "drive.mount('/content/drive',force_remount=True)"
      ]
    },
    {
      "cell_type": "code",
      "execution_count": 3,
      "metadata": {
        "colab": {
          "base_uri": "https://localhost:8080/"
        },
        "id": "EI15F8sqHAXg",
        "outputId": "8120a7ea-785c-41b1-a329-3023399ee4fe"
      },
      "outputs": [
        {
          "output_type": "stream",
          "name": "stdout",
          "text": [
            "/content/drive/MyDrive/batch_one\n",
            "batch_one_test.zip  batch_one_train.zip  test  train\n"
          ]
        }
      ],
      "source": [
        "%cd /content/drive/MyDrive/batch_one/\n",
        "!ls"
      ]
    },
    {
      "cell_type": "code",
      "execution_count": 4,
      "metadata": {
        "colab": {
          "base_uri": "https://localhost:8080/"
        },
        "id": "hsJ_Sdfs4CRI",
        "outputId": "f1ee9eab-ca26-473e-aad7-2e4158347be0"
      },
      "outputs": [
        {
          "output_type": "stream",
          "name": "stdout",
          "text": [
            "Training data extraction completed.\n"
          ]
        }
      ],
      "source": [
        "import zipfile\n",
        "\n",
        "\n",
        "train_zip_path = '/content/drive/MyDrive/batch_one/batch_one_train.zip'\n",
        "\n",
        "\n",
        "extracted_train_folder = '/content/drive/MyDrive/batch_one/train'\n",
        "\n",
        "\n",
        "with zipfile.ZipFile(train_zip_path, 'r') as zip_ref:\n",
        "    zip_ref.extractall(extracted_train_folder)\n",
        "\n",
        "print(\"Training data extraction completed.\")\n"
      ]
    },
    {
      "cell_type": "code",
      "execution_count": 5,
      "metadata": {
        "id": "MaDBNhBy4CHr",
        "colab": {
          "base_uri": "https://localhost:8080/"
        },
        "outputId": "a1883285-beec-4727-e0e7-fb34fc31ef14"
      },
      "outputs": [
        {
          "output_type": "stream",
          "name": "stdout",
          "text": [
            "Testing data extraction completed.\n"
          ]
        }
      ],
      "source": [
        "\n",
        "test_zip_path = '/content/drive/MyDrive/batch_one/batch_one_test.zip'\n",
        "\n",
        "\n",
        "extracted_test_folder = '/content/drive/MyDrive/batch_one/test'\n",
        "\n",
        "\n",
        "with zipfile.ZipFile(test_zip_path, 'r') as zip_ref:\n",
        "    zip_ref.extractall(extracted_test_folder)\n",
        "\n",
        "print(\"Testing data extraction completed.\")\n",
        "\n"
      ]
    },
    {
      "cell_type": "code",
      "execution_count": 6,
      "metadata": {
        "id": "iOvn5_FxYVs7"
      },
      "outputs": [],
      "source": [
        "drive.flush_and_unmount()"
      ]
    },
    {
      "cell_type": "code",
      "source": [
        "\n",
        "drive.mount('/content/drive',force_remount=True)"
      ],
      "metadata": {
        "colab": {
          "base_uri": "https://localhost:8080/"
        },
        "id": "029txshs6WTo",
        "outputId": "9ed5670b-5e27-4694-f78b-efbb332bed1b"
      },
      "execution_count": 7,
      "outputs": [
        {
          "output_type": "stream",
          "name": "stdout",
          "text": [
            "Mounted at /content/drive\n"
          ]
        }
      ]
    },
    {
      "cell_type": "code",
      "source": [
        "import os\n",
        "import pandas as pd\n",
        "\n",
        "\n",
        "train_csv_path = '/content/drive/My Drive/batch_one/train/train_labels.csv'\n",
        "\n",
        "image_folder = '/content/drive/My Drive/batch_one/train/images'\n",
        "\n",
        "\n",
        "train_df = pd.read_csv(train_csv_path)\n",
        "\n",
        "\n",
        "missing_images = []\n",
        "\n",
        "\n",
        "for index, row in train_df.iterrows():\n",
        "    image_filename = row['Image']\n",
        "    image_path = os.path.join(image_folder, image_filename)\n",
        "\n",
        "\n",
        "    if not os.path.exists(image_path):\n",
        "        missing_images.append(image_filename)\n",
        "\n",
        "\n",
        "if missing_images:\n",
        "    print(\"The following images are missing:\")\n",
        "    for image in missing_images:\n",
        "        print(image)\n",
        "else:\n",
        "    print(\"All images listed in the train CSV file exist in the image folder.\")\n"
      ],
      "metadata": {
        "id": "IytTDKhx6WPy"
      },
      "execution_count": null,
      "outputs": []
    },
    {
      "cell_type": "code",
      "source": [],
      "metadata": {
        "id": "rFyPDppA6WM1"
      },
      "execution_count": null,
      "outputs": []
    },
    {
      "cell_type": "code",
      "source": [],
      "metadata": {
        "id": "5VqC39mU6VzJ"
      },
      "execution_count": null,
      "outputs": []
    }
  ],
  "metadata": {
    "colab": {
      "machine_shape": "hm",
      "provenance": [],
      "authorship_tag": "ABX9TyMLmtQGYgTAqZvjpitHniSe",
      "include_colab_link": true
    },
    "kernelspec": {
      "display_name": "Python 3",
      "name": "python3"
    },
    "language_info": {
      "name": "python"
    }
  },
  "nbformat": 4,
  "nbformat_minor": 0
}